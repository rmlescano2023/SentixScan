{
 "cells": [
  {
   "cell_type": "code",
   "execution_count": null,
   "metadata": {},
   "outputs": [],
   "source": [
    "import csv\n",
    "\n",
    "def append_row_to_new_csv(row, new_csv_filename):\n",
    "    with open(new_csv_filename, 'a', newline='', encoding='utf-8') as file:\n",
    "        writer = csv.writer(file)\n",
    "        writer.writerow(row)\n",
    "\n",
    "def append_rows_to_separate_csv(source_csv_filename):\n",
    "    with open(source_csv_filename, 'r', newline='', encoding='utf-8') as file:\n",
    "        reader = csv.reader(file)\n",
    "        for i, row in enumerate(reader):\n",
    "            # Create a new CSV file for each row\n",
    "            new_csv_filename = f'row_{i + 1}.csv'\n",
    "            append_row_to_new_csv(row, new_csv_filename)\n",
    "\n",
    "# Example usage\n",
    "source_csv_filename = 'source_data.csv'\n",
    "append_rows_to_separate_csv(source_csv_filename)\n"
   ]
  }
 ],
 "metadata": {
  "language_info": {
   "name": "python"
  }
 },
 "nbformat": 4,
 "nbformat_minor": 2
}
