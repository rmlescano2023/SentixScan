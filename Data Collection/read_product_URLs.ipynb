{
 "cells": [
  {
   "cell_type": "code",
   "execution_count": 7,
   "metadata": {},
   "outputs": [
    {
     "name": "stdout",
     "output_type": "stream",
     "text": [
      "Extracting data from link #1:\n",
      "﻿https://shopee.ph/itel-P55-RAM-24GB(8-16GB)-ROM-128GB-90HZ-Refresh-50MP-Dual-Camera-5000mAh-18W-i.655822401.24706665159?sp_atk=b9f4aaad-7d97-458d-9ecf-31d95232a059&xptdk=b9f4aaad-7d97-458d-9ecf-31d95232a059\n"
     ]
    }
   ],
   "source": [
    "import csv\n",
    "\n",
    "def read_specific_row(csv_file, row_number):\n",
    "    with open(csv_file, 'r', newline='', encoding='utf-8') as file:\n",
    "        reader = csv.reader(file)\n",
    "        for count, row in enumerate(reader, 1):  # Start counting from 1\n",
    "            if count == row_number:  # Check if it's the desired row\n",
    "                if row:  # Check if the row is not empty\n",
    "                    return row[0]  # Return the contents of the first column\n",
    "                else:\n",
    "                    print(f'Row #{row_number} is empty.')\n",
    "                    return None\n",
    "    print(f'Row #{row_number} not found in the CSV file.')\n",
    "    return None\n",
    "\n",
    "# Example usage:\n",
    "csv_file = 'example.csv'  # Replace 'example.csv' with your CSV file path\n",
    "row_number = 3  # Specify the row number you want to read\n",
    "data = read_specific_row(csv_file, row_number)\n",
    "if data:\n",
    "    print(f'Data from row #{row_number}: {data}')\n"
   ]
  }
 ],
 "metadata": {
  "kernelspec": {
   "display_name": "Python 3",
   "language": "python",
   "name": "python3"
  },
  "language_info": {
   "codemirror_mode": {
    "name": "ipython",
    "version": 3
   },
   "file_extension": ".py",
   "mimetype": "text/x-python",
   "name": "python",
   "nbconvert_exporter": "python",
   "pygments_lexer": "ipython3",
   "version": "3.12.0"
  }
 },
 "nbformat": 4,
 "nbformat_minor": 2
}
